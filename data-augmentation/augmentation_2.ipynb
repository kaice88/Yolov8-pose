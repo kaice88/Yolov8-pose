{
 "cells": [
  {
   "cell_type": "code",
   "execution_count": 1,
   "metadata": {
    "collapsed": true
   },
   "outputs": [],
   "source": [
    "import os\n",
    "\n",
    "from PIL import Image, ImageEnhance\n"
   ]
  },
  {
   "cell_type": "markdown",
   "metadata": {
    "collapsed": false
   },
   "source": [
    "Loop through all the files and created new version of the files with two new brightness"
   ]
  },
  {
   "cell_type": "code",
   "execution_count": 2,
   "metadata": {
    "collapsed": false
   },
   "outputs": [],
   "source": [
    "source_folder = 'C:/Users/Lenovo/Downloads/Test_Speech/New_/images/'\n",
    "light_folder = 'C:/Users/Lenovo/Downloads/Test_Speech/New_/light_images/'\n",
    "dark_folder = 'C:/Users/Lenovo/Downloads/Test_Speech/New_/dark_images/'\n",
    "for filename in os.listdir(source_folder):\n",
    "    if filename.endswith(\".jpg\"):\n",
    "        im = Image.open(source_folder + '/' + filename)\n",
    "        enhancer = ImageEnhance.Brightness(im)\n",
    "        factor = 0.5 #gives original image\n",
    "        im_output = enhancer.enhance(factor)\n",
    "        im_output.save(dark_folder + '/'  + 'dark_' + filename )\n",
    "        factor = 1.5 #gives original image\n",
    "        im_output = enhancer.enhance(factor)\n",
    "        im_output.save(light_folder + '/' + 'light' + filename)\n",
    "        continue\n",
    "    else:\n",
    "        continue\n",
    "# im = Image.open(\"datasets/custom_datasets/images/train/CR_1_0004.jpg\")\n",
    "# enhancer = ImageEnhance.Brightness(im)\n",
    "#\n",
    "# factor = 0.5 #gives original image\n",
    "# im_output = enhancer.enhance(factor)\n",
    "# im_output.save('image_05.jpg')"
   ]
  },
  {
   "cell_type": "code",
   "execution_count": 3,
   "metadata": {
    "collapsed": false
   },
   "outputs": [
    {
     "name": "stdout",
     "output_type": "stream",
     "text": [
      "C:/Users/Lenovo/Downloads/Test_Speech/New_/labels/flip_20230414171751.txt\n",
      "C:/Users/Lenovo/Downloads/Test_Speech/New_/dark_labels/dark_flip_20230414171751.txt\n",
      "C:/Users/Lenovo/Downloads/Test_Speech/New_/labels/flip_20230414194100.txt\n",
      "C:/Users/Lenovo/Downloads/Test_Speech/New_/dark_labels/dark_flip_20230414194100.txt\n",
      "C:/Users/Lenovo/Downloads/Test_Speech/New_/labels/flip_20230414194152 (2).txt\n",
      "C:/Users/Lenovo/Downloads/Test_Speech/New_/dark_labels/dark_flip_20230414194152 (2).txt\n",
      "C:/Users/Lenovo/Downloads/Test_Speech/New_/labels/flip_20230414194154 (1).txt\n",
      "C:/Users/Lenovo/Downloads/Test_Speech/New_/dark_labels/dark_flip_20230414194154 (1).txt\n",
      "C:/Users/Lenovo/Downloads/Test_Speech/New_/labels/flip_20230414194154.txt\n",
      "C:/Users/Lenovo/Downloads/Test_Speech/New_/dark_labels/dark_flip_20230414194154.txt\n",
      "C:/Users/Lenovo/Downloads/Test_Speech/New_/labels/flip_20230414194215 (1).txt\n",
      "C:/Users/Lenovo/Downloads/Test_Speech/New_/dark_labels/dark_flip_20230414194215 (1).txt\n",
      "C:/Users/Lenovo/Downloads/Test_Speech/New_/labels/flip_20230414194215.txt\n",
      "C:/Users/Lenovo/Downloads/Test_Speech/New_/dark_labels/dark_flip_20230414194215.txt\n",
      "C:/Users/Lenovo/Downloads/Test_Speech/New_/labels/flip_20230414194216.txt\n",
      "C:/Users/Lenovo/Downloads/Test_Speech/New_/dark_labels/dark_flip_20230414194216.txt\n",
      "C:/Users/Lenovo/Downloads/Test_Speech/New_/labels/flip_20230414194223.txt\n",
      "C:/Users/Lenovo/Downloads/Test_Speech/New_/dark_labels/dark_flip_20230414194223.txt\n",
      "C:/Users/Lenovo/Downloads/Test_Speech/New_/labels/flip_20230414194249 (1).txt\n",
      "C:/Users/Lenovo/Downloads/Test_Speech/New_/dark_labels/dark_flip_20230414194249 (1).txt\n",
      "C:/Users/Lenovo/Downloads/Test_Speech/New_/labels/flip_20230414194250 (1).txt\n",
      "C:/Users/Lenovo/Downloads/Test_Speech/New_/dark_labels/dark_flip_20230414194250 (1).txt\n",
      "C:/Users/Lenovo/Downloads/Test_Speech/New_/labels/flip_20230414194309 (1).txt\n",
      "C:/Users/Lenovo/Downloads/Test_Speech/New_/dark_labels/dark_flip_20230414194309 (1).txt\n",
      "C:/Users/Lenovo/Downloads/Test_Speech/New_/labels/flip_20230414194309 (2).txt\n",
      "C:/Users/Lenovo/Downloads/Test_Speech/New_/dark_labels/dark_flip_20230414194309 (2).txt\n",
      "C:/Users/Lenovo/Downloads/Test_Speech/New_/labels/flip_20230414194319.txt\n",
      "C:/Users/Lenovo/Downloads/Test_Speech/New_/dark_labels/dark_flip_20230414194319.txt\n",
      "C:/Users/Lenovo/Downloads/Test_Speech/New_/labels/flip_20230414194323 (1).txt\n",
      "C:/Users/Lenovo/Downloads/Test_Speech/New_/dark_labels/dark_flip_20230414194323 (1).txt\n",
      "C:/Users/Lenovo/Downloads/Test_Speech/New_/labels/flip_20230414194323 (2).txt\n",
      "C:/Users/Lenovo/Downloads/Test_Speech/New_/dark_labels/dark_flip_20230414194323 (2).txt\n",
      "C:/Users/Lenovo/Downloads/Test_Speech/New_/labels/flip_20230414194323 (3).txt\n",
      "C:/Users/Lenovo/Downloads/Test_Speech/New_/dark_labels/dark_flip_20230414194323 (3).txt\n",
      "C:/Users/Lenovo/Downloads/Test_Speech/New_/labels/flip_20230414194323.txt\n",
      "C:/Users/Lenovo/Downloads/Test_Speech/New_/dark_labels/dark_flip_20230414194323.txt\n",
      "C:/Users/Lenovo/Downloads/Test_Speech/New_/labels/flip_20230414194324.txt\n",
      "C:/Users/Lenovo/Downloads/Test_Speech/New_/dark_labels/dark_flip_20230414194324.txt\n",
      "C:/Users/Lenovo/Downloads/Test_Speech/New_/labels/flip_20230414194336.txt\n",
      "C:/Users/Lenovo/Downloads/Test_Speech/New_/dark_labels/dark_flip_20230414194336.txt\n",
      "C:/Users/Lenovo/Downloads/Test_Speech/New_/labels/flip_20230415094107.txt\n",
      "C:/Users/Lenovo/Downloads/Test_Speech/New_/dark_labels/dark_flip_20230415094107.txt\n",
      "C:/Users/Lenovo/Downloads/Test_Speech/New_/labels/flip_20230415094113.txt\n",
      "C:/Users/Lenovo/Downloads/Test_Speech/New_/dark_labels/dark_flip_20230415094113.txt\n",
      "C:/Users/Lenovo/Downloads/Test_Speech/New_/labels/flip_20230415094148.txt\n",
      "C:/Users/Lenovo/Downloads/Test_Speech/New_/dark_labels/dark_flip_20230415094148.txt\n",
      "C:/Users/Lenovo/Downloads/Test_Speech/New_/labels/flip_20230415094153.txt\n",
      "C:/Users/Lenovo/Downloads/Test_Speech/New_/dark_labels/dark_flip_20230415094153.txt\n",
      "C:/Users/Lenovo/Downloads/Test_Speech/New_/labels/flip_20230415094203.txt\n",
      "C:/Users/Lenovo/Downloads/Test_Speech/New_/dark_labels/dark_flip_20230415094203.txt\n",
      "C:/Users/Lenovo/Downloads/Test_Speech/New_/labels/flip_20230415094210.txt\n",
      "C:/Users/Lenovo/Downloads/Test_Speech/New_/dark_labels/dark_flip_20230415094210.txt\n",
      "C:/Users/Lenovo/Downloads/Test_Speech/New_/labels/flip_20230415094216.txt\n",
      "C:/Users/Lenovo/Downloads/Test_Speech/New_/dark_labels/dark_flip_20230415094216.txt\n",
      "C:/Users/Lenovo/Downloads/Test_Speech/New_/labels/flip_20230415094221.txt\n",
      "C:/Users/Lenovo/Downloads/Test_Speech/New_/dark_labels/dark_flip_20230415094221.txt\n",
      "C:/Users/Lenovo/Downloads/Test_Speech/New_/labels/flip_20230415094227.txt\n",
      "C:/Users/Lenovo/Downloads/Test_Speech/New_/dark_labels/dark_flip_20230415094227.txt\n",
      "C:/Users/Lenovo/Downloads/Test_Speech/New_/labels/flip_20230415094232.txt\n",
      "C:/Users/Lenovo/Downloads/Test_Speech/New_/dark_labels/dark_flip_20230415094232.txt\n",
      "C:/Users/Lenovo/Downloads/Test_Speech/New_/labels/flip_20230415094245.txt\n",
      "C:/Users/Lenovo/Downloads/Test_Speech/New_/dark_labels/dark_flip_20230415094245.txt\n",
      "C:/Users/Lenovo/Downloads/Test_Speech/New_/labels/flip_20230415094313.txt\n",
      "C:/Users/Lenovo/Downloads/Test_Speech/New_/dark_labels/dark_flip_20230415094313.txt\n",
      "C:/Users/Lenovo/Downloads/Test_Speech/New_/labels/flip_20230415094321.txt\n",
      "C:/Users/Lenovo/Downloads/Test_Speech/New_/dark_labels/dark_flip_20230415094321.txt\n",
      "C:/Users/Lenovo/Downloads/Test_Speech/New_/labels/flip_20230415094327.txt\n",
      "C:/Users/Lenovo/Downloads/Test_Speech/New_/dark_labels/dark_flip_20230415094327.txt\n",
      "C:/Users/Lenovo/Downloads/Test_Speech/New_/labels/flip_20230415094334.txt\n",
      "C:/Users/Lenovo/Downloads/Test_Speech/New_/dark_labels/dark_flip_20230415094334.txt\n",
      "C:/Users/Lenovo/Downloads/Test_Speech/New_/labels/flip_20230415094354.txt\n",
      "C:/Users/Lenovo/Downloads/Test_Speech/New_/dark_labels/dark_flip_20230415094354.txt\n",
      "C:/Users/Lenovo/Downloads/Test_Speech/New_/labels/flip_20230415094402.txt\n",
      "C:/Users/Lenovo/Downloads/Test_Speech/New_/dark_labels/dark_flip_20230415094402.txt\n",
      "C:/Users/Lenovo/Downloads/Test_Speech/New_/labels/flip_20230415094409.txt\n",
      "C:/Users/Lenovo/Downloads/Test_Speech/New_/dark_labels/dark_flip_20230415094409.txt\n",
      "C:/Users/Lenovo/Downloads/Test_Speech/New_/labels/flip_20230415094417.txt\n",
      "C:/Users/Lenovo/Downloads/Test_Speech/New_/dark_labels/dark_flip_20230415094417.txt\n",
      "C:/Users/Lenovo/Downloads/Test_Speech/New_/labels/flip_20230415094429.txt\n",
      "C:/Users/Lenovo/Downloads/Test_Speech/New_/dark_labels/dark_flip_20230415094429.txt\n",
      "C:/Users/Lenovo/Downloads/Test_Speech/New_/labels/flip_20230415094438.txt\n",
      "C:/Users/Lenovo/Downloads/Test_Speech/New_/dark_labels/dark_flip_20230415094438.txt\n",
      "C:/Users/Lenovo/Downloads/Test_Speech/New_/labels/flip_20230415094831.txt\n",
      "C:/Users/Lenovo/Downloads/Test_Speech/New_/dark_labels/dark_flip_20230415094831.txt\n",
      "C:/Users/Lenovo/Downloads/Test_Speech/New_/labels/flip_20230415094859.txt\n",
      "C:/Users/Lenovo/Downloads/Test_Speech/New_/dark_labels/dark_flip_20230415094859.txt\n",
      "C:/Users/Lenovo/Downloads/Test_Speech/New_/labels/flip_20230415094905.txt\n",
      "C:/Users/Lenovo/Downloads/Test_Speech/New_/dark_labels/dark_flip_20230415094905.txt\n",
      "C:/Users/Lenovo/Downloads/Test_Speech/New_/labels/flip_20230415094912.txt\n",
      "C:/Users/Lenovo/Downloads/Test_Speech/New_/dark_labels/dark_flip_20230415094912.txt\n",
      "C:/Users/Lenovo/Downloads/Test_Speech/New_/labels/flip_20230415095017.txt\n",
      "C:/Users/Lenovo/Downloads/Test_Speech/New_/dark_labels/dark_flip_20230415095017.txt\n",
      "C:/Users/Lenovo/Downloads/Test_Speech/New_/labels/flip_20230415095908.txt\n",
      "C:/Users/Lenovo/Downloads/Test_Speech/New_/dark_labels/dark_flip_20230415095908.txt\n",
      "C:/Users/Lenovo/Downloads/Test_Speech/New_/labels/flip_20230415095913.txt\n",
      "C:/Users/Lenovo/Downloads/Test_Speech/New_/dark_labels/dark_flip_20230415095913.txt\n",
      "C:/Users/Lenovo/Downloads/Test_Speech/New_/labels/flip_20230415095919.txt\n",
      "C:/Users/Lenovo/Downloads/Test_Speech/New_/dark_labels/dark_flip_20230415095919.txt\n",
      "C:/Users/Lenovo/Downloads/Test_Speech/New_/labels/flip_20230415095929.txt\n",
      "C:/Users/Lenovo/Downloads/Test_Speech/New_/dark_labels/dark_flip_20230415095929.txt\n",
      "C:/Users/Lenovo/Downloads/Test_Speech/New_/labels/flip_20230415095935.txt\n",
      "C:/Users/Lenovo/Downloads/Test_Speech/New_/dark_labels/dark_flip_20230415095935.txt\n",
      "C:/Users/Lenovo/Downloads/Test_Speech/New_/labels/flip_20230415100131.txt\n",
      "C:/Users/Lenovo/Downloads/Test_Speech/New_/dark_labels/dark_flip_20230415100131.txt\n",
      "C:/Users/Lenovo/Downloads/Test_Speech/New_/labels/flip_20230415100136.txt\n",
      "C:/Users/Lenovo/Downloads/Test_Speech/New_/dark_labels/dark_flip_20230415100136.txt\n",
      "C:/Users/Lenovo/Downloads/Test_Speech/New_/labels/flip_20230415100201.txt\n",
      "C:/Users/Lenovo/Downloads/Test_Speech/New_/dark_labels/dark_flip_20230415100201.txt\n",
      "C:/Users/Lenovo/Downloads/Test_Speech/New_/labels/flip_20230415100206.txt\n",
      "C:/Users/Lenovo/Downloads/Test_Speech/New_/dark_labels/dark_flip_20230415100206.txt\n",
      "C:/Users/Lenovo/Downloads/Test_Speech/New_/labels/flip_20230415100210.txt\n",
      "C:/Users/Lenovo/Downloads/Test_Speech/New_/dark_labels/dark_flip_20230415100210.txt\n",
      "C:/Users/Lenovo/Downloads/Test_Speech/New_/labels/flip_20230415100219.txt\n",
      "C:/Users/Lenovo/Downloads/Test_Speech/New_/dark_labels/dark_flip_20230415100219.txt\n",
      "C:/Users/Lenovo/Downloads/Test_Speech/New_/labels/flip_20230415100246.txt\n",
      "C:/Users/Lenovo/Downloads/Test_Speech/New_/dark_labels/dark_flip_20230415100246.txt\n",
      "C:/Users/Lenovo/Downloads/Test_Speech/New_/labels/flip_20230415100257.txt\n",
      "C:/Users/Lenovo/Downloads/Test_Speech/New_/dark_labels/dark_flip_20230415100257.txt\n",
      "C:/Users/Lenovo/Downloads/Test_Speech/New_/labels/flip_20230415100312.txt\n",
      "C:/Users/Lenovo/Downloads/Test_Speech/New_/dark_labels/dark_flip_20230415100312.txt\n"
     ]
    }
   ],
   "source": [
    "import shutil\n",
    "source_folder = 'C:/Users/Lenovo/Downloads/Test_Speech/New_/labels/'\n",
    "dark_folder = 'C:/Users/Lenovo/Downloads/Test_Speech/New_/dark_labels'\n",
    "light_folder = 'C:/Users/Lenovo/Downloads/Test_Speech/New_/light_labels'\n",
    "for filename in os.listdir(source_folder):\n",
    "    print(source_folder + filename)\n",
    "    print(dark_folder+'/'  + 'dark_' + filename)\n",
    "    shutil.copyfile(source_folder+filename, dark_folder+'/'  + 'dark_' + filename)\n",
    "    shutil.copyfile(source_folder+filename, light_folder+'/'  + 'light_' + filename)\n",
    "# im = Image.open(\"datasets/custom_datasets/images/train/CR_1_0004.jpg\")\n",
    "# enhancer = ImageEnhance.Brightness(im)\n",
    "#\n",
    "# factor = 0.5 #gives original image\n",
    "# im_output = enhancer.enhance(factor)\n",
    "# im_output.save('image_05.jpg')"
   ]
  },
  {
   "cell_type": "code",
   "execution_count": 14,
   "metadata": {
    "collapsed": false
   },
   "outputs": [],
   "source": [
    "im = Image.open('D:/Dataset/Drive/Processed/110/IMG_3337_000006.jpg')\n",
    "enhancer = ImageEnhance.Brightness(im)\n",
    "factor = 0.5 #gives original image\n",
    "im_output = enhancer.enhance(factor)\n",
    "im_output.save('test.jpg')"
   ]
  },
  {
   "cell_type": "code",
   "execution_count": null,
   "metadata": {
    "collapsed": false
   },
   "outputs": [],
   "source": []
  }
 ],
 "metadata": {
  "kernelspec": {
   "display_name": "Python 3",
   "language": "python",
   "name": "python3"
  },
  "language_info": {
   "codemirror_mode": {
    "name": "ipython",
    "version": 3
   },
   "file_extension": ".py",
   "mimetype": "text/x-python",
   "name": "python",
   "nbconvert_exporter": "python",
   "pygments_lexer": "ipython3",
   "version": "3.8.10"
  }
 },
 "nbformat": 4,
 "nbformat_minor": 0
}
