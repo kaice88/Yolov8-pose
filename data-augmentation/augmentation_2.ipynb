{
 "cells": [
  {
   "cell_type": "code",
   "execution_count": 1,
   "metadata": {
    "collapsed": true
   },
   "outputs": [],
   "source": [
    "import os\n",
    "\n",
    "from PIL import Image, ImageEnhance\n"
   ]
  },
  {
   "cell_type": "markdown",
   "source": [
    "Loop through all the files and created new version of the files with two new brightness"
   ],
   "metadata": {
    "collapsed": false
   }
  },
  {
   "cell_type": "code",
   "execution_count": 7,
   "outputs": [
    {
     "name": "stdout",
     "output_type": "stream",
     "text": [
      "M:/HK6/PBL5/Repos/Yolov8-pose/datasets/light_dataset/images/val/light-1-5_flipped_CR_2_0001.jpg\n",
      "M:/HK6/PBL5/Repos/Yolov8-pose/datasets/light_dataset/images/val/light-1-5_flipped_CR_2_0002.jpg\n",
      "M:/HK6/PBL5/Repos/Yolov8-pose/datasets/light_dataset/images/val/light-1-5_flipped_CR_2_0003.jpg\n",
      "M:/HK6/PBL5/Repos/Yolov8-pose/datasets/light_dataset/images/val/light-1-5_flipped_CR_3_0002.jpg\n",
      "M:/HK6/PBL5/Repos/Yolov8-pose/datasets/light_dataset/images/val/light-1-5_flipped_CR_3_0003.jpg\n",
      "M:/HK6/PBL5/Repos/Yolov8-pose/datasets/light_dataset/images/val/light-1-5_flipped_CR_3_0005.jpg\n",
      "M:/HK6/PBL5/Repos/Yolov8-pose/datasets/light_dataset/images/val/light-1-5_flipped_CR_3_0007.jpg\n",
      "M:/HK6/PBL5/Repos/Yolov8-pose/datasets/light_dataset/images/val/light-1-5_flipped_CR_3_0011.jpg\n",
      "M:/HK6/PBL5/Repos/Yolov8-pose/datasets/light_dataset/images/val/light-1-5_flipped_CR_3_0014.jpg\n",
      "M:/HK6/PBL5/Repos/Yolov8-pose/datasets/light_dataset/images/val/light-1-5_flipped_CR_3_0016.jpg\n",
      "M:/HK6/PBL5/Repos/Yolov8-pose/datasets/light_dataset/images/val/light-1-5_flipped_CR_3_0020.jpg\n",
      "M:/HK6/PBL5/Repos/Yolov8-pose/datasets/light_dataset/images/val/light-1-5_flipped_O_1_0012.jpg\n",
      "M:/HK6/PBL5/Repos/Yolov8-pose/datasets/light_dataset/images/val/light-1-5_flipped_RS_1_0080.jpg\n",
      "M:/HK6/PBL5/Repos/Yolov8-pose/datasets/light_dataset/images/val/light-1-5_flipped_WL_3_0008.jpg\n",
      "M:/HK6/PBL5/Repos/Yolov8-pose/datasets/light_dataset/images/val/light-1-5_flipped_WL_3_0011.jpg\n",
      "M:/HK6/PBL5/Repos/Yolov8-pose/datasets/light_dataset/images/val/light-1-5_flipped_WL_4_0001.jpg\n",
      "M:/HK6/PBL5/Repos/Yolov8-pose/datasets/light_dataset/images/val/light-1-5_O_1_0012.jpg\n",
      "M:/HK6/PBL5/Repos/Yolov8-pose/datasets/light_dataset/images/val/light-1-5_O_1_0019.jpg\n",
      "M:/HK6/PBL5/Repos/Yolov8-pose/datasets/light_dataset/images/val/light-1-5_RS_1_0080.jpg\n"
     ]
    }
   ],
   "source": [
    "source_folder = 'M:/HK6/PBL5/Repos/Yolov8-pose/datasets/custom_datasets/images/val'\n",
    "target_folder = 'M:/HK6/PBL5/Repos/Yolov8-pose/datasets/light_dataset/images/val'\n",
    "for filename in os.listdir(source_folder):\n",
    "    if filename.endswith(\".jpg\"):\n",
    "        im = Image.open(source_folder + '/' + filename)\n",
    "        enhancer = ImageEnhance.Brightness(im)\n",
    "        factor = 0.5 #gives original image\n",
    "        im_output = enhancer.enhance(factor)\n",
    "        im_output.save(target_folder + '/'  + 'light-0-5_' + filename )\n",
    "        factor = 1.5 #gives original image\n",
    "        im_output = enhancer.enhance(factor)\n",
    "        im_output.save(target_folder + '/' + 'light-1-5_' + filename)\n",
    "        print(target_folder + '/' + 'light-1-5_' + filename)\n",
    "        continue\n",
    "    else:\n",
    "        continue\n",
    "# im = Image.open(\"datasets/custom_datasets/images/train/CR_1_0004.jpg\")\n",
    "# enhancer = ImageEnhance.Brightness(im)\n",
    "#\n",
    "# factor = 0.5 #gives original image\n",
    "# im_output = enhancer.enhance(factor)\n",
    "# im_output.save('image_05.jpg')"
   ],
   "metadata": {
    "collapsed": false
   }
  },
  {
   "cell_type": "code",
   "execution_count": 12,
   "outputs": [
    {
     "name": "stdout",
     "output_type": "stream",
     "text": [
      "M:/HK6/PBL5/Repos/Yolov8-pose/datasets/custom_datasets/labels/val/flipped_CR_2_0001.txt\n",
      "M:/HK6/PBL5/Repos/Yolov8-pose/datasets/light_dataset/labels/val/light-0-5_flipped_CR_2_0001.txt\n",
      "M:/HK6/PBL5/Repos/Yolov8-pose/datasets/custom_datasets/labels/val/flipped_CR_2_0002.txt\n",
      "M:/HK6/PBL5/Repos/Yolov8-pose/datasets/light_dataset/labels/val/light-0-5_flipped_CR_2_0002.txt\n",
      "M:/HK6/PBL5/Repos/Yolov8-pose/datasets/custom_datasets/labels/val/flipped_CR_2_0003.txt\n",
      "M:/HK6/PBL5/Repos/Yolov8-pose/datasets/light_dataset/labels/val/light-0-5_flipped_CR_2_0003.txt\n",
      "M:/HK6/PBL5/Repos/Yolov8-pose/datasets/custom_datasets/labels/val/flipped_CR_3_0002.txt\n",
      "M:/HK6/PBL5/Repos/Yolov8-pose/datasets/light_dataset/labels/val/light-0-5_flipped_CR_3_0002.txt\n",
      "M:/HK6/PBL5/Repos/Yolov8-pose/datasets/custom_datasets/labels/val/flipped_CR_3_0003.txt\n",
      "M:/HK6/PBL5/Repos/Yolov8-pose/datasets/light_dataset/labels/val/light-0-5_flipped_CR_3_0003.txt\n",
      "M:/HK6/PBL5/Repos/Yolov8-pose/datasets/custom_datasets/labels/val/flipped_CR_3_0005.txt\n",
      "M:/HK6/PBL5/Repos/Yolov8-pose/datasets/light_dataset/labels/val/light-0-5_flipped_CR_3_0005.txt\n",
      "M:/HK6/PBL5/Repos/Yolov8-pose/datasets/custom_datasets/labels/val/flipped_CR_3_0007.txt\n",
      "M:/HK6/PBL5/Repos/Yolov8-pose/datasets/light_dataset/labels/val/light-0-5_flipped_CR_3_0007.txt\n",
      "M:/HK6/PBL5/Repos/Yolov8-pose/datasets/custom_datasets/labels/val/flipped_CR_3_0011.txt\n",
      "M:/HK6/PBL5/Repos/Yolov8-pose/datasets/light_dataset/labels/val/light-0-5_flipped_CR_3_0011.txt\n",
      "M:/HK6/PBL5/Repos/Yolov8-pose/datasets/custom_datasets/labels/val/flipped_CR_3_0014.txt\n",
      "M:/HK6/PBL5/Repos/Yolov8-pose/datasets/light_dataset/labels/val/light-0-5_flipped_CR_3_0014.txt\n",
      "M:/HK6/PBL5/Repos/Yolov8-pose/datasets/custom_datasets/labels/val/flipped_CR_3_0016.txt\n",
      "M:/HK6/PBL5/Repos/Yolov8-pose/datasets/light_dataset/labels/val/light-0-5_flipped_CR_3_0016.txt\n",
      "M:/HK6/PBL5/Repos/Yolov8-pose/datasets/custom_datasets/labels/val/flipped_CR_3_0020.txt\n",
      "M:/HK6/PBL5/Repos/Yolov8-pose/datasets/light_dataset/labels/val/light-0-5_flipped_CR_3_0020.txt\n",
      "M:/HK6/PBL5/Repos/Yolov8-pose/datasets/custom_datasets/labels/val/flipped_O_1_0012.txt\n",
      "M:/HK6/PBL5/Repos/Yolov8-pose/datasets/light_dataset/labels/val/light-0-5_flipped_O_1_0012.txt\n",
      "M:/HK6/PBL5/Repos/Yolov8-pose/datasets/custom_datasets/labels/val/flipped_RS_1_0080.txt\n",
      "M:/HK6/PBL5/Repos/Yolov8-pose/datasets/light_dataset/labels/val/light-0-5_flipped_RS_1_0080.txt\n",
      "M:/HK6/PBL5/Repos/Yolov8-pose/datasets/custom_datasets/labels/val/flipped_WL_3_0008.txt\n",
      "M:/HK6/PBL5/Repos/Yolov8-pose/datasets/light_dataset/labels/val/light-0-5_flipped_WL_3_0008.txt\n",
      "M:/HK6/PBL5/Repos/Yolov8-pose/datasets/custom_datasets/labels/val/flipped_WL_3_0011.txt\n",
      "M:/HK6/PBL5/Repos/Yolov8-pose/datasets/light_dataset/labels/val/light-0-5_flipped_WL_3_0011.txt\n",
      "M:/HK6/PBL5/Repos/Yolov8-pose/datasets/custom_datasets/labels/val/flipped_WL_4_0001.txt\n",
      "M:/HK6/PBL5/Repos/Yolov8-pose/datasets/light_dataset/labels/val/light-0-5_flipped_WL_4_0001.txt\n",
      "M:/HK6/PBL5/Repos/Yolov8-pose/datasets/custom_datasets/labels/val/O_1_0012.txt\n",
      "M:/HK6/PBL5/Repos/Yolov8-pose/datasets/light_dataset/labels/val/light-0-5_O_1_0012.txt\n",
      "M:/HK6/PBL5/Repos/Yolov8-pose/datasets/custom_datasets/labels/val/O_1_0019.txt\n",
      "M:/HK6/PBL5/Repos/Yolov8-pose/datasets/light_dataset/labels/val/light-0-5_O_1_0019.txt\n",
      "M:/HK6/PBL5/Repos/Yolov8-pose/datasets/custom_datasets/labels/val/RS_1_0080.txt\n",
      "M:/HK6/PBL5/Repos/Yolov8-pose/datasets/light_dataset/labels/val/light-0-5_RS_1_0080.txt\n"
     ]
    }
   ],
   "source": [
    "import shutil\n",
    "source_folder = 'M:/HK6/PBL5/Repos/Yolov8-pose/datasets/custom_datasets/labels/val/'\n",
    "target_folder = 'M:/HK6/PBL5/Repos/Yolov8-pose/datasets/light_dataset/labels/val'\n",
    "for filename in os.listdir(source_folder):\n",
    "    print(source_folder + filename)\n",
    "    print( target_folder+'/'  + 'light-0-5_' + filename)\n",
    "    shutil.copyfile(source_folder+filename, target_folder+'/'  + 'light-0-5_' + filename)\n",
    "    shutil.copyfile(source_folder+filename, target_folder+'/'  + 'light-1-5_' + filename)\n",
    "# im = Image.open(\"datasets/custom_datasets/images/train/CR_1_0004.jpg\")\n",
    "# enhancer = ImageEnhance.Brightness(im)\n",
    "#\n",
    "# factor = 0.5 #gives original image\n",
    "# im_output = enhancer.enhance(factor)\n",
    "# im_output.save('image_05.jpg')"
   ],
   "metadata": {
    "collapsed": false
   }
  },
  {
   "cell_type": "code",
   "execution_count": 14,
   "outputs": [],
   "source": [
    "im = Image.open('D:/Dataset/Drive/Processed/110/IMG_3337_000006.jpg')\n",
    "enhancer = ImageEnhance.Brightness(im)\n",
    "factor = 0.5 #gives original image\n",
    "im_output = enhancer.enhance(factor)\n",
    "im_output.save('test.jpg')"
   ],
   "metadata": {
    "collapsed": false
   }
  },
  {
   "cell_type": "code",
   "execution_count": null,
   "outputs": [],
   "source": [],
   "metadata": {
    "collapsed": false
   }
  }
 ],
 "metadata": {
  "kernelspec": {
   "display_name": "Python 3",
   "language": "python",
   "name": "python3"
  },
  "language_info": {
   "codemirror_mode": {
    "name": "ipython",
    "version": 2
   },
   "file_extension": ".py",
   "mimetype": "text/x-python",
   "name": "python",
   "nbconvert_exporter": "python",
   "pygments_lexer": "ipython2",
   "version": "2.7.6"
  }
 },
 "nbformat": 4,
 "nbformat_minor": 0
}
